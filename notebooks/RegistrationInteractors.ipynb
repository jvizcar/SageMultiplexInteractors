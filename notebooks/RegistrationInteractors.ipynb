{
 "cells": [
  {
   "cell_type": "markdown",
   "metadata": {},
   "source": [
    "# Registration Interactors\n",
    "Updated - 3 Nov. 2020\n",
    "\n",
    "By - JC Vizcarra (intern at SageBionetworks)\n",
    "\n",
    "This notebook provides interactors for working with tiff directories containing images from multiplex scans. The naming convention of the tiff files should follow the OHSU standard where the file name contains the channel number and round number (i.e. if the image filename is  ```R0_AF488.AF555.AF647.AF750_SMT130-4_2019_05_07__16_55__1610S-Scene-003_c1_ORG.tif``` then the round number is 0 and this is channel 1 in that round)."
   ]
  },
  {
   "cell_type": "code",
   "execution_count": null,
   "metadata": {},
   "outputs": [],
   "source": []
  },
  {
   "cell_type": "code",
   "execution_count": null,
   "metadata": {},
   "outputs": [],
   "source": []
  },
  {
   "cell_type": "code",
   "execution_count": null,
   "metadata": {},
   "outputs": [],
   "source": [
    "# # prepare all variables\n",
    "# im_df = read_csv(ci.CSV_FILEPATH)\n",
    "\n",
    "# # temporarily reading a single image and its masks\n",
    "# i = 2\n",
    "# im = imread(im_df.loc[i, ci.IM_COL])\n",
    "# target_mask = np.load(im_df.loc[i, ci.TARGET_COL])\n",
    "# pred_mask1 = np.load(im_df.loc[i, ci.PRED_COLS[0]])\n",
    "# pred_mask2 = np.load(im_df.loc[i, ci.PRED_COLS[1]])\n",
    "\n",
    "# objComparator = ObjectClass(im, target_mask, pred_mask2, verbose=0)\n",
    "# objsComparator = ObjectsClass(im, target_mask, [target_mask, pred_mask1, pred_mask2], verbose=0)\n",
    "\n",
    "# \n",
    "# objComparator.report_metrics()\n",
    "# objComparator.visualize_interact()\n",
    "# objComparator.visualize_comparison_interact()\n",
    "# objComparator.visualize_object_interact()\n",
    "# objsComparator.visualize_heatmap_interact()"
   ]
  }
 ],
 "metadata": {
  "kernelspec": {
   "display_name": "Python 3",
   "language": "python",
   "name": "python3"
  },
  "language_info": {
   "codemirror_mode": {
    "name": "ipython",
    "version": 3
   },
   "file_extension": ".py",
   "mimetype": "text/x-python",
   "name": "python",
   "nbconvert_exporter": "python",
   "pygments_lexer": "ipython3",
   "version": "3.8.4"
  }
 },
 "nbformat": 4,
 "nbformat_minor": 4
}
