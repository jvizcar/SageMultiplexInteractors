{
 "cells": [
  {
   "cell_type": "markdown",
   "metadata": {},
   "source": [
    "# Nuclei Mask Interactors\n",
    "Updated on 2020-10-01\n",
    "\n",
    "Interactors for comparing nuclei object masks from various methods. Nuclei masks are obtained by analyzing the DAPI channel of the CyCIF datasets (multiplex images)\n",
    "\n",
    "Parameters are set in the configs_interactive.py file -- look there for further information.\n",
    "\n",
    "**NOTE** - Begin the notebook by clicking on the \"*Run all initialization cells*\" button in the toolbar (the calculator button).\n",
    "\n",
    "\n",
    "**Temporary behaviour** - currently the behaviour of the notebook only works with one image and its masks, the development of its other function is to come soon which is to work directly from a csv file that contains multiple images and associated masks. The user will be allowed to cycle between the images.\n",
    "\n",
    "## Table of Contents\n",
    "1. [Visualize Image with Target and Single Prediction](#section1)\n",
    "2. [Detail Comparison of Agreement of Target and Prediction](#section2)\n",
    "3. [Visualize Single Nuclei](#section3)\n",
    "4. [Visualize Multiple Predictions](#section4)\n",
    "5. [Cell Type Calling Feature Comparison](#section5)\n",
    "6. [Cell Type Calling Feature Thresholds](#section6)\n",
    "7. [ROC Curves](#section7)\n",
    "8. [Feature Importance](#section8)"
   ]
  },
  {
   "cell_type": "code",
   "execution_count": 1,
   "metadata": {
    "code_folding": [
     0
    ],
    "init_cell": true
   },
   "outputs": [],
   "source": [
    "# configure the notebook\n",
    "%matplotlib inline  \n",
    "%load_ext autoreload\n",
    "%autoreload 2"
   ]
  },
  {
   "cell_type": "code",
   "execution_count": 2,
   "metadata": {
    "code_folding": [],
    "init_cell": true
   },
   "outputs": [],
   "source": [
    "import sys\n",
    "sys.path.append('..')\n",
    "sys.path.append('/data/')\n",
    "\n",
    "import configs as ci\n",
    "from pandas import read_csv\n",
    "from imageio import imread\n",
    "import numpy as np\n",
    "import ipywidgets as widgets\n",
    "\n",
    "from utils import ObjectsClass, ObjectClass, ObjectTypeClass\n",
    "from utils.utils import normalize_image\n",
    "\n",
    "# tentative\n",
    "import matplotlib.pyplot as plt"
   ]
  },
  {
   "cell_type": "code",
   "execution_count": null,
   "metadata": {
    "code_folding": [
     0
    ]
   },
   "outputs": [],
   "source": [
    "# prepare all variables\n",
    "im_df = read_csv(ci.CSV_FILEPATH)\n",
    "\n",
    "# temporarily reading a single image and its masks\n",
    "i = 2\n",
    "im = imread(im_df.loc[i, ci.IM_COL])\n",
    "target_mask = np.load(im_df.loc[i, ci.TARGET_COL])\n",
    "pred_mask1 = np.load(im_df.loc[i, ci.PRED_COLS[0]])\n",
    "pred_mask2 = np.load(im_df.loc[i, ci.PRED_COLS[1]])\n",
    "\n",
    "objComparator = ObjectClass(im, target_mask, pred_mask2, verbose=0)\n",
    "objsComparator = ObjectsClass(im, target_mask, [target_mask, pred_mask1, pred_mask2], verbose=0)"
   ]
  },
  {
   "cell_type": "markdown",
   "metadata": {},
   "source": [
    "<a id='section1'></a>\n",
    "## 1) Visualize Image with Target and Single Prediction"
   ]
  },
  {
   "cell_type": "code",
   "execution_count": null,
   "metadata": {
    "code_folding": []
   },
   "outputs": [],
   "source": [
    "# \n",
    "objComparator.report_metrics()\n",
    "objComparator.visualize_interact()"
   ]
  },
  {
   "cell_type": "markdown",
   "metadata": {},
   "source": [
    "<a id='section2'></a>\n",
    "## 2) Detail Comparison of Agreement of Target and Prediction"
   ]
  },
  {
   "cell_type": "code",
   "execution_count": null,
   "metadata": {
    "code_folding": [
     0
    ]
   },
   "outputs": [],
   "source": [
    "# \n",
    "objComparator.visualize_comparison_interact()"
   ]
  },
  {
   "cell_type": "markdown",
   "metadata": {},
   "source": [
    "<a id='section3'></a>\n",
    "## 3) Visualize Single Nuclei"
   ]
  },
  {
   "cell_type": "code",
   "execution_count": null,
   "metadata": {
    "code_folding": [
     0
    ]
   },
   "outputs": [],
   "source": [
    "#\n",
    "objComparator.visualize_object_interact()"
   ]
  },
  {
   "cell_type": "markdown",
   "metadata": {},
   "source": [
    "<a id='section4'></a>\n",
    "## 4) Visualize Multiple Predictions"
   ]
  },
  {
   "cell_type": "code",
   "execution_count": null,
   "metadata": {
    "code_folding": [
     0
    ]
   },
   "outputs": [],
   "source": [
    "#\n",
    "objsComparator.visualize_heatmap_interact()"
   ]
  },
  {
   "cell_type": "markdown",
   "metadata": {},
   "source": [
    "<a id='section5'></a>\n",
    "## 5) Cell Type Calling Feature Comparison"
   ]
  },
  {
   "cell_type": "code",
   "execution_count": null,
   "metadata": {
    "code_folding": []
   },
   "outputs": [],
   "source": [
    "# prepare parameters for this section\n",
    "# cellType_im = normalize_image(imread('/data/testDatasets/lung2CellTypes/regionImg_x-8000_y-1000.png'))\n",
    "# cellType_mask = np.load('/data/testDatasets/lung2CellTypes/regionMask_x-8000_y-1000.npy')\n",
    "# cellType_filepath = '/data/ome.tiffs/Lung2BR/Lung2.csv'\n",
    "\n",
    "pred_dict = {'Lung3 - Morpho': '../Datafiles/xgboost_Lung3_morpho.pred.csv',\n",
    "             'Lung3 - Morpho + DAPI': '../Datafiles/xgboost_Lung3_morpho_dapi.pred.csv',\n",
    "             'Lung3 - Morpho + DAPI + Neighbor': '../Datafiles/xgboost_Lung3_morpho_dapi_neighbor.pred.csv'}\n",
    "ft_dict = {\n",
    "    'Lung3 - Morpho': '../Datafiles/xgboost_Lung3_morpho.model.feat_impt.csv', \n",
    "    'Lung3 - Morpho + DAPI': '../Datafiles/xgboost_Lung3_morpho_dapi.model.feat_impt.csv',\n",
    "    'Lung3 - Morpho + DAPI + Neighbor': '../Datafiles/xgboost_Lung3_morpho_dapi_neighbor.model.feat_impt.csv'\n",
    "}\n",
    "\n",
    "region = {'left': 8000, 'top': 1000, 'width': 500, 'height': 500}\n",
    "objclass = ObjectTypeClass(\n",
    "    '/data/ome.tiffs/Lung3PR/LUNG-3-PR_40X.ome.tif',\n",
    "    '/data/ome.tiffs/Lung3PR/LUNG-3-PR_40X_Seg_labeled.tif',\n",
    "    region,\n",
    "    '/data/ome.tiffs/Lung3PR/Lung3.csv',\n",
    "    chname_filepath='../Datafiles/LungChNames.txt',\n",
    "    pred_filepaths=pred_dict,\n",
    "    markers_filepath='../Datafiles/LUNG-3-PR_40X_features.csv',\n",
    "    ft_importance_filepaths=ft_dict\n",
    ")\n",
    "objclass.visualize_features_interact()"
   ]
  },
  {
   "cell_type": "markdown",
   "metadata": {},
   "source": [
    "<a id='section6'></a>\n",
    "## 6) Cell Type Calling Feature Thresholds"
   ]
  },
  {
   "cell_type": "code",
   "execution_count": null,
   "metadata": {
    "code_folding": [
     0
    ]
   },
   "outputs": [],
   "source": [
    "#\n",
    "objclass.visualize_threshold_interact()"
   ]
  },
  {
   "cell_type": "markdown",
   "metadata": {},
   "source": [
    "## 7) Receiver operation curves\n",
    "Read from csv files provided."
   ]
  },
  {
   "cell_type": "code",
   "execution_count": null,
   "metadata": {},
   "outputs": [],
   "source": [
    "objclass.interact_class_roc()"
   ]
  },
  {
   "cell_type": "markdown",
   "metadata": {},
   "source": [
    "<a id='section8'></a>\n",
    "## 8) Feature imporance\n",
    "Read from csv files."
   ]
  },
  {
   "cell_type": "code",
   "execution_count": null,
   "metadata": {
    "code_folding": [
     0
    ]
   },
   "outputs": [],
   "source": [
    "# plot the feature importances\n",
    "objclass.interact_ft_importance()"
   ]
  },
  {
   "cell_type": "markdown",
   "metadata": {},
   "source": [
    "## 9) Marker expression and feature comparison\n",
    "Each nuclei is defined by a set of pixels in the image. Given a marker channel we can calculate the average marker value for all pixels in that nuclei and repeat for all channels and nuclei in the image. This is a time consuming operation and should be done ahead of time and results saved to a csv file.\n",
    "\n",
    "The csv file should contain CellID column that matches the cell id of other csv files.\n",
    "\n",
    "This interactor should compare a set of marker features vs a single morphological feature. These should be scatter plots with the marker features on the y-axis and the morphological feature on x-axis."
   ]
  },
  {
   "cell_type": "code",
   "execution_count": null,
   "metadata": {
    "code_folding": []
   },
   "outputs": [],
   "source": [
    "# choose a set of markers to plot against a feature\n",
    "objclass.interact_ft_vs_markers()"
   ]
  },
  {
   "cell_type": "code",
   "execution_count": null,
   "metadata": {},
   "outputs": [],
   "source": [
    "objclass.interact_hm_ft_vs_markers()"
   ]
  },
  {
   "cell_type": "markdown",
   "metadata": {},
   "source": [
    "## Old version of interactors (no longer planned to use)"
   ]
  },
  {
   "cell_type": "code",
   "execution_count": null,
   "metadata": {},
   "outputs": [],
   "source": [
    "\"\"\"ROC (old version)\n",
    "\n",
    "The CSV contains probability for the classes for each cell - not sure where these come from but I think these are how the ground truth was generated. Doing \n",
    "ROCs of these is not that informative as it will be a near perfect curve. You can use the other features in the CSV (such as area) to predict new labels \n",
    "probabilities and then do ROC based on those or add new CSV files that contain different probability predictions.\n",
    "\"\"\"\n",
    "\n",
    "# predict the labels from a list of features\n",
    "feature_set1 = ['Area',  'Eccentricity', 'Solidity', 'Extent', 'EulerNumber', 'Perimeter', 'MajorAxisLength', 'MinorAxisLength', 'Orientation',\n",
    "                'Neighbor_1', 'Neighbor_2', 'Neighbor_3', 'Neighbor_4', 'Neighbor_5', 'X_position', 'Y_position']\n",
    "feature_set2 = ['Perimeter', 'Extent', 'Orientation']\n",
    "objclass.predict_labels('All features', feature_set1)\n",
    "print()\n",
    "objclass.predict_labels('3 features', feature_set2)\n",
    "print()\n",
    "objclass.predict_labels('All fts + 300 est', feature_set1, n_estimators=300)\n",
    "\n",
    "objclass.predict_labels('All fts + 300 est', feature_set1, n_estimators=300, full=False)\n",
    "\n",
    "# plot the ROC curve(s)\n",
    "objclass.interact_roc()"
   ]
  }
 ],
 "metadata": {
  "celltoolbar": "Initialization Cell",
  "kernelspec": {
   "display_name": "Python 3",
   "language": "python",
   "name": "python3"
  },
  "language_info": {
   "codemirror_mode": {
    "name": "ipython",
    "version": 3
   },
   "file_extension": ".py",
   "mimetype": "text/x-python",
   "name": "python",
   "nbconvert_exporter": "python",
   "pygments_lexer": "ipython3",
   "version": "3.8.4"
  },
  "toc": {
   "base_numbering": 1,
   "nav_menu": {},
   "number_sections": true,
   "sideBar": true,
   "skip_h1_title": false,
   "title_cell": "Table of Contents",
   "title_sidebar": "Contents",
   "toc_cell": false,
   "toc_position": {},
   "toc_section_display": true,
   "toc_window_display": false
  }
 },
 "nbformat": 4,
 "nbformat_minor": 4
}
