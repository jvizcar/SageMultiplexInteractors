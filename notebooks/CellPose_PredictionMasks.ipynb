{
 "cells": [
  {
   "cell_type": "markdown",
   "metadata": {},
   "source": [
    "## Cell Pose Prediction Masks\n",
    "Updated - 2020 Nov. 11\n",
    "\n",
    "By - JC Vizcarra (SageBionetworks intern)\n",
    "\n",
    "This notebook is an auxillary notebook for creating prediction nuclei masks to use in the nuclei segmentation interactors."
   ]
  },
  {
   "cell_type": "code",
   "execution_count": null,
   "metadata": {},
   "outputs": [],
   "source": [
    "import sys\n",
    "sys.path.append('/data/')\n",
    "\n",
    "from cellpose import utils, io, models\n",
    "import large_image\n",
    "import configs as ci\n",
    "import matplotlib.pyplot as plt\n",
    "import numpy as np\n",
    "from tqdm.notebook import tqdm\n",
    "from imageio import imwrite"
   ]
  },
  {
   "cell_type": "code",
   "execution_count": null,
   "metadata": {},
   "outputs": [],
   "source": [
    "# read the ome.tif and use the first frame -- I assume this is the DAPI / DNA channel\n",
    "ts = large_image.getTileSource(ci.OMETIF_FILEPATH2)\n",
    "\n",
    "chnames = ts.getMetadata()['channelmap']\n",
    "frame = chnames[list(chnames.keys())[0]]\n",
    "\n",
    "kwargs = {'format': large_image.tilesource.TILE_FORMAT_NUMPY, 'frame': frame}\n",
    "im = ts.getRegion(**kwargs)[0][:, :, 0]"
   ]
  },
  {
   "cell_type": "code",
   "execution_count": null,
   "metadata": {},
   "outputs": [],
   "source": [
    "def cellpose_prediction(im, diameter, dim=256, save_path=None):    \n",
    "    \"\"\"Predict the nuclei mask for a very large image by reading it in small square regions. Note that this does not \n",
    "    have smart merging of nuclei that are cut between the regions. \n",
    "    \n",
    "    Parameters\n",
    "    ----------\n",
    "    im : array-like\n",
    "        image to run cellpose on for nuclei detection / segmentation, could be a very large image\n",
    "    diameter : int\n",
    "        diameter of the nuclei to use as a prior, the cellpose results vary on this\n",
    "    dim : int (default: 256)\n",
    "        the width and height of the regions to chop the image by for running cellpose on\n",
    "    save_path : str (default: None)\n",
    "        path to save mask to, if None then image is not saved\n",
    "        \n",
    "    Return\n",
    "    ------\n",
    "    mask : array-like\n",
    "        the labeled mask with the nuclei predictions\n",
    "        \n",
    "    \"\"\"\n",
    "    # create the cellpose model for nuclei detection without GPU usage\n",
    "    model = models.Cellpose(gpu=False, model_type='nuclei')    \n",
    "    \n",
    "    # read the image in chunks\n",
    "    height, width = im.shape\n",
    "    \n",
    "    ims = []\n",
    "    channels = []\n",
    "    xys = []\n",
    "    \n",
    "    for x in range(0, width, dim):\n",
    "        for y in range(0, height, dim):\n",
    "            xys.append((x,y))\n",
    "            ims.append(im[y:y+dim, x:x+dim])\n",
    "            channels.append([0,0])\n",
    "\n",
    "            \n",
    "    # run cellpose on the chunks\n",
    "    masks = model.eval(ims, diameter=diameter, channels=channels)[0]\n",
    "    \n",
    "    # use the masks to reconstruct the final image\n",
    "    mask = np.zeros((height, width), np.int32)\n",
    "\n",
    "    for m, xy in tqdm(zip(masks, xys)):\n",
    "        # get max in final_mask\n",
    "        max_value = np.max(mask)\n",
    "\n",
    "        # sum the _max to all non-zero values\n",
    "        m = m.copy()\n",
    "        m[m!=0] += max_value\n",
    "\n",
    "        # add this mask to its location in final mask\n",
    "        mask[xy[1]:xy[1]+dim, xy[0]:xy[0]+dim] = m\n",
    "        \n",
    "    if save_path is not None:\n",
    "        imwrite(save_path, mask)\n",
    "        \n",
    "    return mask\n",
    "\n",
    "\n",
    "# cellpose_prediction(im, 16, dim=1000, save_path='/data/ome.tiffs/TonsilNucleiSeg/TONSIL-1_40X_16diameter_cellpose_nucleiMask.tif');\n",
    "cellpose_prediction(im, 20, dim=1000, save_path='/data/ome.tiffs/TonsilNucleiSeg/TONSIL-1_40X_20diameter_cellpose_nucleiMask.tif');"
   ]
  }
 ],
 "metadata": {
  "kernelspec": {
   "display_name": "Python 3",
   "language": "python",
   "name": "python3"
  },
  "language_info": {
   "codemirror_mode": {
    "name": "ipython",
    "version": 3
   },
   "file_extension": ".py",
   "mimetype": "text/x-python",
   "name": "python",
   "nbconvert_exporter": "python",
   "pygments_lexer": "ipython3",
   "version": "3.8.4"
  }
 },
 "nbformat": 4,
 "nbformat_minor": 4
}
