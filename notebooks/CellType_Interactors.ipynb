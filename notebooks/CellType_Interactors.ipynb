{
 "cells": [
  {
   "cell_type": "markdown",
   "metadata": {},
   "source": [
    "# Cell Type Interactors\n",
    "Updated - 3 Nov. 2020\n",
    "\n",
    "By JC Vizcarra (intern at SageBionetworks)\n",
    "\n",
    "Interactors for working with multiplex images and cell type calling on those images - analysis is down upstream and the results are provided as csv files.\n",
    "\n",
    "## Table of Contents\n",
    "1. [View cell types in region](#section1)\n",
    "1. [Visualize morphological features](#section2)\n",
    "1. [Plot ROC plots](#section3)\n",
    "1. [Plot feature importance plots](#section4)\n",
    "1. [Visualize morphological features vs marker values](#section5)"
   ]
  },
  {
   "cell_type": "code",
   "execution_count": 1,
   "metadata": {
    "code_folding": [
     0
    ],
    "init_cell": true
   },
   "outputs": [],
   "source": [
    "# configure the notebook\n",
    "%matplotlib inline  \n",
    "%load_ext autoreload\n",
    "%autoreload 2"
   ]
  },
  {
   "cell_type": "code",
   "execution_count": 2,
   "metadata": {
    "code_folding": [],
    "init_cell": true
   },
   "outputs": [],
   "source": [
    "# imports\n",
    "import sys\n",
    "sys.path.append('..')\n",
    "sys.path.append('/data/')\n",
    "\n",
    "import configs as ci\n",
    "from pandas import read_csv\n",
    "from imageio import imread\n",
    "import numpy as np\n",
    "import ipywidgets as widgets\n",
    "\n",
    "from utils import ObjectTypeClass\n",
    "from utils.utils import normalize_image\n",
    "\n",
    "# tentative\n",
    "import matplotlib.pyplot as plt"
   ]
  },
  {
   "cell_type": "code",
   "execution_count": 3,
   "metadata": {
    "code_folding": [
     0
    ],
    "init_cell": true
   },
   "outputs": [
    {
     "name": "stderr",
     "output_type": "stream",
     "text": [
      "Created LRU Cache for 'tilesource' with 166 maximum size\n",
      "Using python for large_image caching\n"
     ]
    }
   ],
   "source": [
    "# creating object class\n",
    "objclass = ObjectTypeClass(\n",
    "    ci.OMETIF_FILEPATH,\n",
    "    ci.LABELMASK_FILEPATH,\n",
    "    ci.REGION,\n",
    "    ci.LABELMASK_CSV,\n",
    "    chname_filepath=ci.CHNAMES_FILEPATH,\n",
    "    pred_filepaths=ci.PREDICTIONS,\n",
    "    markers_filepath=ci.MARKERS_FILEPATH,\n",
    "    ft_importance_filepaths=ci.FEATURE_IMPORTANCES\n",
    ")"
   ]
  },
  {
   "cell_type": "markdown",
   "metadata": {},
   "source": [
    "<a id='section1'></a>\n",
    "## View cell types in region"
   ]
  },
  {
   "cell_type": "code",
   "execution_count": 4,
   "metadata": {
    "code_folding": [
     0
    ],
    "init_cell": true
   },
   "outputs": [
    {
     "data": {
      "application/vnd.jupyter.widget-view+json": {
       "model_id": "294dc360ac8b4664a8905d6b6123a5b0",
       "version_major": 2,
       "version_minor": 0
      },
      "text/plain": [
       "interactive(children=(Dropdown(description='Label', options=('Stroma', 'Immune', 'Tumor'), value='Stroma'), Fl…"
      ]
     },
     "metadata": {},
     "output_type": "display_data"
    }
   ],
   "source": [
    "# view the ome.tif\n",
    "objclass.visualize_interact()"
   ]
  },
  {
   "cell_type": "markdown",
   "metadata": {},
   "source": [
    "<a id='section2'></a>\n",
    "## Visualize morphological features"
   ]
  },
  {
   "cell_type": "code",
   "execution_count": 5,
   "metadata": {
    "code_folding": [
     0
    ],
    "init_cell": true
   },
   "outputs": [
    {
     "data": {
      "application/vnd.jupyter.widget-view+json": {
       "model_id": "86ccbcd27cbc4792865178de00d1bb6f",
       "version_major": 2,
       "version_minor": 0
      },
      "text/plain": [
       "VBox(children=(HBox(children=(Text(value='', description='Save loc:', placeholder='Location to save image'), C…"
      ]
     },
     "metadata": {},
     "output_type": "display_data"
    },
    {
     "data": {
      "application/vnd.jupyter.widget-view+json": {
       "model_id": "53e3f94c221147ad975c88bde903051d",
       "version_major": 2,
       "version_minor": 0
      },
      "text/plain": [
       "Output()"
      ]
     },
     "metadata": {},
     "output_type": "display_data"
    }
   ],
   "source": [
    "# visualize morphological features\n",
    "objclass.visualize_features_interact()"
   ]
  },
  {
   "cell_type": "code",
   "execution_count": 6,
   "metadata": {
    "code_folding": [
     0
    ],
    "init_cell": true
   },
   "outputs": [
    {
     "data": {
      "application/vnd.jupyter.widget-view+json": {
       "model_id": "e5060862cac243b18e721f708d50ae7a",
       "version_major": 2,
       "version_minor": 0
      },
      "text/plain": [
       "interactive(children=(Dropdown(description='Feature', options=('Area', 'Eccentricity', 'Solidity', 'Extent', '…"
      ]
     },
     "metadata": {},
     "output_type": "display_data"
    }
   ],
   "source": [
    "# visualize features with threshold\n",
    "objclass.visualize_threshold_interact()"
   ]
  },
  {
   "cell_type": "markdown",
   "metadata": {},
   "source": [
    "<a id='section3'></a>\n",
    "## Plot ROC plots"
   ]
  },
  {
   "cell_type": "code",
   "execution_count": 7,
   "metadata": {
    "code_folding": [
     0
    ],
    "init_cell": true
   },
   "outputs": [
    {
     "data": {
      "application/vnd.jupyter.widget-view+json": {
       "model_id": "1e8d2e6f30a64e53b66a5f40c06676d6",
       "version_major": 2,
       "version_minor": 0
      },
      "text/plain": [
       "interactive(children=(SelectMultiple(description='Predicted Labels:', index=(0, 1, 2), options=('Lung3 - Morph…"
      ]
     },
     "metadata": {},
     "output_type": "display_data"
    }
   ],
   "source": [
    "# plot class ROC\n",
    "objclass.interact_class_roc()"
   ]
  },
  {
   "cell_type": "markdown",
   "metadata": {},
   "source": [
    "<a id='section4'></a>\n",
    "## Plot feature importance plots"
   ]
  },
  {
   "cell_type": "code",
   "execution_count": 8,
   "metadata": {
    "code_folding": [
     0
    ],
    "init_cell": true
   },
   "outputs": [
    {
     "data": {
      "application/vnd.jupyter.widget-view+json": {
       "model_id": "a63827f597f74cdfb836da29ceeec4b9",
       "version_major": 2,
       "version_minor": 0
      },
      "text/plain": [
       "interactive(children=(SelectMultiple(description='Predicted Labels (hold control to select multiple):', index=…"
      ]
     },
     "metadata": {},
     "output_type": "display_data"
    }
   ],
   "source": [
    "# plot feature importances\n",
    "objclass.interact_ft_importance()"
   ]
  },
  {
   "cell_type": "markdown",
   "metadata": {},
   "source": [
    "<a id='section5'></a>\n",
    "## Visualize morphological features vs marker values"
   ]
  },
  {
   "cell_type": "code",
   "execution_count": 9,
   "metadata": {
    "code_folding": [
     0
    ],
    "init_cell": true
   },
   "outputs": [
    {
     "data": {
      "application/vnd.jupyter.widget-view+json": {
       "model_id": "c709d8b3a4be4e13ac5984b674be01aa",
       "version_major": 2,
       "version_minor": 0
      },
      "text/plain": [
       "interactive(children=(Dropdown(description='Feature:', options=('Area', 'Eccentricity', 'Solidity', 'Extent', …"
      ]
     },
     "metadata": {},
     "output_type": "display_data"
    }
   ],
   "source": [
    "# plot features vs markers in scatter form overlayed - there is a limit to how many you can plot at a time\n",
    "objclass.interact_ft_vs_markers()"
   ]
  },
  {
   "cell_type": "code",
   "execution_count": 10,
   "metadata": {
    "code_folding": [
     0
    ],
    "init_cell": true
   },
   "outputs": [
    {
     "data": {
      "application/vnd.jupyter.widget-view+json": {
       "model_id": "2805723ddd9144f9ac324a682eebddfd",
       "version_major": 2,
       "version_minor": 0
      },
      "text/plain": [
       "HBox(children=(VBox(children=(Dropdown(description='Feature:', options=('Area', 'Eccentricity', 'Solidity', 'E…"
      ]
     },
     "metadata": {},
     "output_type": "display_data"
    },
    {
     "data": {
      "application/vnd.jupyter.widget-view+json": {
       "model_id": "8619a7c5d8df4446b84a031f5e8f7dea",
       "version_major": 2,
       "version_minor": 0
      },
      "text/plain": [
       "Output()"
      ]
     },
     "metadata": {},
     "output_type": "display_data"
    }
   ],
   "source": [
    "# plot features vs markers in heatmap form with subplots\n",
    "objclass.interact_hm_ft_vs_markers()"
   ]
  }
 ],
 "metadata": {
  "kernelspec": {
   "display_name": "Python 3",
   "language": "python",
   "name": "python3"
  },
  "language_info": {
   "codemirror_mode": {
    "name": "ipython",
    "version": 3
   },
   "file_extension": ".py",
   "mimetype": "text/x-python",
   "name": "python",
   "nbconvert_exporter": "python",
   "pygments_lexer": "ipython3",
   "version": "3.8.4"
  },
  "toc": {
   "base_numbering": 1,
   "nav_menu": {},
   "number_sections": true,
   "sideBar": true,
   "skip_h1_title": false,
   "title_cell": "Table of Contents",
   "title_sidebar": "Contents",
   "toc_cell": false,
   "toc_position": {},
   "toc_section_display": true,
   "toc_window_display": false
  }
 },
 "nbformat": 4,
 "nbformat_minor": 4
}
